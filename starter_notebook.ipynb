{
 "cells": [
  {
   "cell_type": "markdown",
   "metadata": {},
   "source": [
    "### Imports"
   ]
  },
  {
   "cell_type": "code",
   "execution_count": 6,
   "metadata": {
    "collapsed": false
   },
   "outputs": [
    {
     "name": "stdout",
     "output_type": "stream",
     "text": [
      "Populating the interactive namespace from numpy and matplotlib\n"
     ]
    }
   ],
   "source": [
    "%pylab inline \n",
    "import os\n",
    "import nibabel as nib\n",
    "import numpy as np\n",
    "from glob import glob\n",
    "from scipy.ndimage import label"
   ]
  },
  {
   "cell_type": "markdown",
   "metadata": {},
   "source": [
    "##### Load the text file with mse ids"
   ]
  },
  {
   "cell_type": "code",
   "execution_count": 4,
   "metadata": {
    "collapsed": false
   },
   "outputs": [
    {
     "name": "stdout",
     "output_type": "stream",
     "text": [
      "['mse1328' 'mse1334' 'mse1337' 'mse1343' 'mse1349']\n"
     ]
    }
   ],
   "source": [
    "subjects = np.genfromtxt(\"pbr_baselines.txt\", dtype=str)\n",
    "print subjects[:5]"
   ]
  },
  {
   "cell_type": "markdown",
   "metadata": {},
   "source": [
    "##### define some paths to data"
   ]
  },
  {
   "cell_type": "code",
   "execution_count": null,
   "metadata": {
    "collapsed": true
   },
   "outputs": [],
   "source": [
    "base_dir = \"/data/henry7/PBR/subjects/\"\n",
    "template = \"{base_dir}/{mseid}/lesions_manual/*/alignment_lesions.nii.gz\""
   ]
  },
  {
   "cell_type": "markdown",
   "metadata": {},
   "source": [
    "## figure out a way to fill the template and glob for the file you need"
   ]
  },
  {
   "cell_type": "code",
   "execution_count": null,
   "metadata": {
    "collapsed": true
   },
   "outputs": [],
   "source": [
    "lesion_file = #fill the template with the first subject, subjects[0]"
   ]
  },
  {
   "cell_type": "markdown",
   "metadata": {},
   "source": [
    "## Load an image"
   ]
  },
  {
   "cell_type": "code",
   "execution_count": null,
   "metadata": {
    "collapsed": true
   },
   "outputs": [],
   "source": [
    "img = nib.load(lesion_file)\n",
    "data, affine = nib.get_data(), nib.get_affine()"
   ]
  },
  {
   "cell_type": "markdown",
   "metadata": {},
   "source": [
    "## Number each lesion "
   ]
  },
  {
   "cell_type": "code",
   "execution_count": null,
   "metadata": {
    "collapsed": true
   },
   "outputs": [],
   "source": [
    "labels, nlabels = label(data==1)"
   ]
  },
  {
   "cell_type": "markdown",
   "metadata": {},
   "source": [
    "## Get x,y,z coordinates for each lesion"
   ]
  },
  {
   "cell_type": "code",
   "execution_count": null,
   "metadata": {
    "collapsed": true
   },
   "outputs": [],
   "source": [
    "np.nonzero"
   ]
  },
  {
   "cell_type": "markdown",
   "metadata": {},
   "source": [
    "## Tranform coordinates to world space"
   ]
  },
  {
   "cell_type": "code",
   "execution_count": 1,
   "metadata": {
    "collapsed": false
   },
   "outputs": [
    {
     "ename": "NameError",
     "evalue": "name 'np' is not defined",
     "output_type": "error",
     "traceback": [
      "\u001b[1;31m---------------------------------------------------------------------------\u001b[0m",
      "\u001b[1;31mNameError\u001b[0m                                 Traceback (most recent call last)",
      "\u001b[1;32m<ipython-input-1-67427f3d29e9>\u001b[0m in \u001b[0;36m<module>\u001b[1;34m()\u001b[0m\n\u001b[1;32m----> 1\u001b[1;33m \u001b[0mnp\u001b[0m\u001b[1;33m.\u001b[0m\u001b[0mdot\u001b[0m\u001b[1;33m(\u001b[0m\u001b[1;33m[\u001b[0m\u001b[0mx\u001b[0m\u001b[1;33m,\u001b[0m\u001b[0my\u001b[0m\u001b[1;33m,\u001b[0m\u001b[0mz\u001b[0m\u001b[1;33m,\u001b[0m\u001b[1;36m1\u001b[0m\u001b[1;33m]\u001b[0m\u001b[1;33m,\u001b[0m \u001b[0maff\u001b[0m\u001b[1;33m)\u001b[0m \u001b[1;31m#order might be switched\u001b[0m\u001b[1;33m\u001b[0m\u001b[0m\n\u001b[0m",
      "\u001b[1;31mNameError\u001b[0m: name 'np' is not defined"
     ]
    }
   ],
   "source": [
    "np.dot([x,y,z,1], aff) #order might be switched "
   ]
  },
  {
   "cell_type": "code",
   "execution_count": 2,
   "metadata": {
    "collapsed": false
   },
   "outputs": [
    {
     "ename": "NameError",
     "evalue": "name 'np' is not defined",
     "output_type": "error",
     "traceback": [
      "\u001b[1;31m---------------------------------------------------------------------------\u001b[0m",
      "\u001b[1;31mNameError\u001b[0m                                 Traceback (most recent call last)",
      "\u001b[1;32m<ipython-input-2-0de47e71fc56>\u001b[0m in \u001b[0;36m<module>\u001b[1;34m()\u001b[0m\n\u001b[1;32m----> 1\u001b[1;33m \u001b[0msubjects\u001b[0m \u001b[1;33m=\u001b[0m \u001b[0mnp\u001b[0m\u001b[1;33m.\u001b[0m\u001b[0mgenfromtxt\u001b[0m\u001b[1;33m(\u001b[0m\u001b[1;34m\"pbr_baselines.txt\"\u001b[0m\u001b[1;33m,\u001b[0m \u001b[0mdtype\u001b[0m\u001b[1;33m=\u001b[0m\u001b[0mstr\u001b[0m\u001b[1;33m)\u001b[0m\u001b[1;33m\u001b[0m\u001b[0m\n\u001b[0m\u001b[0;32m      2\u001b[0m \u001b[1;32mprint\u001b[0m \u001b[0msubjects\u001b[0m\u001b[1;33m[\u001b[0m\u001b[1;33m:\u001b[0m\u001b[1;36m5\u001b[0m\u001b[1;33m]\u001b[0m\u001b[1;33m\u001b[0m\u001b[0m\n",
      "\u001b[1;31mNameError\u001b[0m: name 'np' is not defined"
     ]
    }
   ],
   "source": [
    "subjects = np.genfromtxt(\"pbr_baselines.txt\", dtype=str)\n",
    "print subjects[:5]"
   ]
  },
  {
   "cell_type": "code",
   "execution_count": 1,
   "metadata": {
    "collapsed": false
   },
   "outputs": [
    {
     "name": "stdout",
     "output_type": "stream",
     "text": [
      "Populating the interactive namespace from numpy and matplotlib\n"
     ]
    }
   ],
   "source": [
    "%pylab inline \n",
    "import os\n",
    "import nibabel as nib\n",
    "import numpy as np\n",
    "from glob import glob\n",
    "from scipy.ndimage import label"
   ]
  },
  {
   "cell_type": "code",
   "execution_count": 2,
   "metadata": {
    "collapsed": false
   },
   "outputs": [
    {
     "name": "stdout",
     "output_type": "stream",
     "text": [
      "['mse1328' 'mse1334' 'mse1337' 'mse1343' 'mse1349']\n"
     ]
    }
   ],
   "source": [
    "subjects = np.genfromtxt(\"pbr_baselines.txt\", dtype=str)\n",
    "print subjects[:5]"
   ]
  },
  {
   "cell_type": "code",
   "execution_count": 3,
   "metadata": {
    "collapsed": false
   },
   "outputs": [],
   "source": [
    "import glob\n",
    "import nibabel as nib"
   ]
  },
  {
   "cell_type": "code",
   "execution_count": 4,
   "metadata": {
    "collapsed": false
   },
   "outputs": [],
   "source": [
    "ms1328 = \"/data/henry7/PBR/subjects/mse1328/lesions_manual/ms56-mse1328-002-AX_T1_3D_IRSPGR/alignment_lesions.nii.gz\""
   ]
  },
  {
   "cell_type": "code",
   "execution_count": 5,
   "metadata": {
    "collapsed": false
   },
   "outputs": [
    {
     "name": "stdout",
     "output_type": "stream",
     "text": [
      "/data/henry7/PBR/subjects/mse1328/lesions_manual/ms56-mse1328-002-AX_T1_3D_IRSPGR/alignment_lesions.nii.gz\n"
     ]
    }
   ],
   "source": [
    "for lesion_file_1328 in glob.glob(\"/data/henry7/PBR/subjects/mse1328/lesions_manual/*/alignment_lesions.nii.gz\"):\n",
    "    print lesion_file_1328"
   ]
  },
  {
   "cell_type": "code",
   "execution_count": 6,
   "metadata": {
    "collapsed": false
   },
   "outputs": [
    {
     "data": {
      "text/plain": [
       "<nibabel.arrayproxy.ArrayProxy at 0x7f6d355a0890>"
      ]
     },
     "execution_count": 6,
     "metadata": {},
     "output_type": "execute_result"
    }
   ],
   "source": [
    "img1328 = nib.load(lesion_file_1328)\n",
    "img1328.dataobj"
   ]
  },
  {
   "cell_type": "code",
   "execution_count": 7,
   "metadata": {
    "collapsed": false
   },
   "outputs": [
    {
     "data": {
      "text/plain": [
       "(256, 256, 150)"
      ]
     },
     "execution_count": 7,
     "metadata": {},
     "output_type": "execute_result"
    }
   ],
   "source": [
    "data1328 = img1328.get_data()\n",
    "data1328.shape\n"
   ]
  },
  {
   "cell_type": "code",
   "execution_count": 8,
   "metadata": {
    "collapsed": false
   },
   "outputs": [
    {
     "name": "stdout",
     "output_type": "stream",
     "text": [
      "[[  -0.9375        0.            0.          123.6289978 ]\n",
      " [   0.            0.9375        0.          -93.36050415]\n",
      " [   0.            0.            1.          -44.42710114]\n",
      " [   0.            0.            0.            1.        ]]\n"
     ]
    }
   ],
   "source": [
    "affine1328 = img1328.get_affine()\n",
    "print affine1328"
   ]
  },
  {
   "cell_type": "code",
   "execution_count": 9,
   "metadata": {
    "collapsed": false
   },
   "outputs": [],
   "source": [
    "labels, nlabels = label(data1328==[1])"
   ]
  },
  {
   "cell_type": "code",
   "execution_count": 10,
   "metadata": {
    "collapsed": false
   },
   "outputs": [
    {
     "data": {
      "text/plain": [
       "11"
      ]
     },
     "execution_count": 10,
     "metadata": {},
     "output_type": "execute_result"
    }
   ],
   "source": [
    "nlabels"
   ]
  },
  {
   "cell_type": "code",
   "execution_count": 11,
   "metadata": {
    "collapsed": false
   },
   "outputs": [
    {
     "name": "stdout",
     "output_type": "stream",
     "text": [
      "[ 0  1  2  3  4  5  6  7  8  9 10 11]\n"
     ]
    }
   ],
   "source": [
    "n = np.unique(labels)\n",
    "print n"
   ]
  },
  {
   "cell_type": "code",
   "execution_count": 12,
   "metadata": {
    "collapsed": false
   },
   "outputs": [
    {
     "data": {
      "text/plain": [
       "array([9829648,      69,     105,      54,      29,      69,      61,\n",
       "            36,      47,     125,     111,      46])"
      ]
     },
     "execution_count": 12,
     "metadata": {},
     "output_type": "execute_result"
    }
   ],
   "source": [
    "np.bincount(labels.ravel())"
   ]
  },
  {
   "cell_type": "code",
   "execution_count": 13,
   "metadata": {
    "collapsed": false
   },
   "outputs": [],
   "source": [
    "def coordinates(n):\n",
    "    for value in n: \n",
    "        if value == n and n != 0:\n",
    "            x,y,z = np.nonzero(labels)\n",
    "            print \"x\", x\n",
    "            print \"y\", y\n",
    "            print \"z\", z\n",
    "        else:\n",
    "            print none"
   ]
  },
  {
   "cell_type": "code",
   "execution_count": 40,
   "metadata": {
    "collapsed": false
   },
   "outputs": [
    {
     "name": "stdout",
     "output_type": "stream",
     "text": [
      "126\n"
     ]
    }
   ],
   "source": [
    "def get_lesion_coord():\n",
    "    all_lesion = []\n",
    "    for count in range(1, nlabels+1):\n",
    "        cur_lesion = []\n",
    "        x,y,z = np.nonzero(labels==count)\n",
    "        for count2 in range(len(x)):\n",
    "            cur_coordinates = [x[count2],y[count2],z[count2]]\n",
    "            cur_lesion.append(cur_coordinates)\n",
    "        all_lesion.append(cur_lesion)\n",
    "    #for count in range(nlabels):\n",
    "    #    print \"lesion #\", count+1, \"\", all_lesion[count]\n",
    "    #    print \"\"\n",
    "    return all_lesion\n",
    "\n",
    "get_lesion_coord()\n",
    "print all_lesion[1][0][1]\n"
   ]
  },
  {
   "cell_type": "code",
   "execution_count": 46,
   "metadata": {
    "collapsed": false
   },
   "outputs": [
    {
     "name": "stdout",
     "output_type": "stream",
     "text": [
      "0 [78, 105, 89]\n",
      "1 [86, 126, 82]\n",
      "2 [91, 93, 58]\n",
      "3 [90, 98, 50]\n",
      "4 [99, 82, 55]\n",
      "5 [102, 74, 61]\n",
      "6 [113, 77, 82]\n",
      "7 [146, 102, 89]\n",
      "8 [148, 148, 89]\n",
      "9 [150, 115, 101]\n",
      "10 [151, 106, 92]\n",
      "[[78, 105, 89], [86, 126, 82], [91, 93, 58], [90, 98, 50], [99, 82, 55], [102, 74, 61], [113, 77, 82], [146, 102, 89], [148, 148, 89], [150, 115, 101], [151, 106, 92]]\n"
     ]
    }
   ],
   "source": [
    "def average_les(coordinates):\n",
    "    averages_all = []\n",
    "    for count in range(len(coordinates)):\n",
    "        averages = []\n",
    "        sumx=0;sumy=0;sumz=0\n",
    "        for count2 in range(len(coordinates[count])):\n",
    "            sumx += coordinates[count][count2][0]\n",
    "            sumy += coordinates[count][count2][1]\n",
    "            sumz += coordinates[count][count2][2]\n",
    "        average_x = sumx / len(coordinates[count])\n",
    "        average_y = sumy / len(coordinates[count])\n",
    "        average_z = sumz / len(coordinates[count])\n",
    "        averages = [average_x, average_y, average_z]\n",
    "        averages_all.append(averages)\n",
    "        print count, averages\n",
    "    return averages_all\n",
    "\n",
    "print average_les(all_lesion)\n"
   ]
  },
  {
   "cell_type": "code",
   "execution_count": null,
   "metadata": {
    "collapsed": false
   },
   "outputs": [],
   "source": [
    "x,y,z = np.nonzero(labels== )\n",
    "print \"x\", x\n",
    "print \"y\", y\n",
    "print \"z\", z"
   ]
  },
  {
   "cell_type": "code",
   "execution_count": null,
   "metadata": {
    "collapsed": true
   },
   "outputs": [],
   "source": []
  },
  {
   "cell_type": "code",
   "execution_count": null,
   "metadata": {
    "collapsed": false
   },
   "outputs": [],
   "source": [
    "np.dot(average(x,y,z),1, affine1328)"
   ]
  },
  {
   "cell_type": "code",
   "execution_count": null,
   "metadata": {
    "collapsed": false
   },
   "outputs": [],
   "source": [
    "x,y,z = np.nonzero(labels==2)\n",
    "print \"x\", x\n",
    "print \"y\", y\n",
    "print \"z\", z"
   ]
  },
  {
   "cell_type": "code",
   "execution_count": 34,
   "metadata": {
    "collapsed": false
   },
   "outputs": [
    {
     "name": "stdout",
     "output_type": "stream",
     "text": [
      "[151, 106, 92]\n"
     ]
    }
   ],
   "source": [
    "def average(x,y,z):\n",
    "    sumx = 0; sumy = 0; sumz = 0\n",
    "    count = 0\n",
    "    for count in range(len(x)):\n",
    "        sumx += x[count]\n",
    "        sumy += y[count]\n",
    "        sumz += z[count]\n",
    "    average_x = sumx / len(x)\n",
    "    average_y = sumy / len(y)\n",
    "    average_z = sumz / len(z)\n",
    "    averages = [average_x, average_y, average_z]\n",
    "    return averages\n",
    "\n",
    "print average(x,y,z)"
   ]
  },
  {
   "cell_type": "code",
   "execution_count": null,
   "metadata": {
    "collapsed": true
   },
   "outputs": [],
   "source": []
  }
 ],
 "metadata": {
  "kernelspec": {
   "display_name": "Python 2",
   "language": "python",
   "name": "python2"
  },
  "language_info": {
   "codemirror_mode": {
    "name": "ipython",
    "version": 2
   },
   "file_extension": ".py",
   "mimetype": "text/x-python",
   "name": "python",
   "nbconvert_exporter": "python",
   "pygments_lexer": "ipython2",
   "version": "2.7.11"
  }
 },
 "nbformat": 4,
 "nbformat_minor": 0
}
