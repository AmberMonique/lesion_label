{
 "cells": [
  {
   "cell_type": "markdown",
   "metadata": {},
   "source": [
    "### Imports"
   ]
  },
  {
   "cell_type": "code",
   "execution_count": 7,
   "metadata": {
    "collapsed": false
   },
   "outputs": [
    {
     "name": "stdout",
     "output_type": "stream",
     "text": [
      "Populating the interactive namespace from numpy and matplotlib\n"
     ]
    }
   ],
   "source": [
    "%pylab inline \n",
    "import os\n",
    "import nibabel as nib\n",
    "import numpy as np\n",
    "from glob import glob\n",
    "from scipy.ndimage import label"
   ]
  },
  {
   "cell_type": "markdown",
   "metadata": {},
   "source": [
    "##### Load the text file with mse ids"
   ]
  },
  {
   "cell_type": "code",
   "execution_count": 8,
   "metadata": {
    "collapsed": false
   },
   "outputs": [
    {
     "name": "stdout",
     "output_type": "stream",
     "text": [
      "['mse1328' 'mse1334' 'mse1337' 'mse1343' 'mse1349']\n"
     ]
    }
   ],
   "source": [
    "subjects = np.genfromtxt(\"pbr_baselines.txt\", dtype=str)\n",
    "print subjects[:5]"
   ]
  },
  {
   "cell_type": "markdown",
   "metadata": {},
   "source": [
    "##### define some paths to data"
   ]
  },
  {
   "cell_type": "code",
   "execution_count": 9,
   "metadata": {
    "collapsed": true
   },
   "outputs": [],
   "source": [
    "base_dir = \"/data/henry7/PBR/subjects/\"\n",
    "template = \"{base_dir}/{mseid}/lesions_manual/*/alignment_lesions.nii.gz\""
   ]
  },
  {
   "cell_type": "markdown",
   "metadata": {},
   "source": [
    "## figure out a way to fill the template and glob for the file you need"
   ]
  },
  {
   "cell_type": "code",
   "execution_count": 10,
   "metadata": {
    "collapsed": false
   },
   "outputs": [
    {
     "ename": "SyntaxError",
     "evalue": "invalid syntax (<ipython-input-10-08377618c11f>, line 1)",
     "output_type": "error",
     "traceback": [
      "\u001b[1;36m  File \u001b[1;32m\"<ipython-input-10-08377618c11f>\"\u001b[1;36m, line \u001b[1;32m1\u001b[0m\n\u001b[1;33m    lesion_file = #fill the template with the first subject, subjects[0]\u001b[0m\n\u001b[1;37m                                                                        ^\u001b[0m\n\u001b[1;31mSyntaxError\u001b[0m\u001b[1;31m:\u001b[0m invalid syntax\n"
     ]
    }
   ],
   "source": [
    "lesion_file = #fill the template with the first subject, subjects[0]"
   ]
  },
  {
   "cell_type": "markdown",
   "metadata": {},
   "source": [
    "## Load an image"
   ]
  },
  {
   "cell_type": "code",
   "execution_count": null,
   "metadata": {
    "collapsed": true
   },
   "outputs": [],
   "source": [
    "img = nib.load(lesion_file)\n",
    "data, affine = nib.get_data(), nib.get_affine()"
   ]
  },
  {
   "cell_type": "markdown",
   "metadata": {},
   "source": [
    "## Number each lesion "
   ]
  },
  {
   "cell_type": "code",
   "execution_count": null,
   "metadata": {
    "collapsed": true
   },
   "outputs": [],
   "source": [
    "labels, nlabels = label(data==1)"
   ]
  },
  {
   "cell_type": "markdown",
   "metadata": {},
   "source": [
    "## Get x,y,z coordinates for each lesion"
   ]
  },
  {
   "cell_type": "code",
   "execution_count": null,
   "metadata": {
    "collapsed": true
   },
   "outputs": [],
   "source": [
    "np.nonzero"
   ]
  },
  {
   "cell_type": "markdown",
   "metadata": {},
   "source": [
    "## Tranform coordinates to world space"
   ]
  },
  {
   "cell_type": "code",
   "execution_count": null,
   "metadata": {
    "collapsed": false
   },
   "outputs": [],
   "source": [
    "np.dot([x,y,z,1], aff) #order might be switched "
   ]
  },
  {
   "cell_type": "code",
   "execution_count": 11,
   "metadata": {
    "collapsed": false
   },
   "outputs": [
    {
     "name": "stdout",
     "output_type": "stream",
     "text": [
      "['mse1328' 'mse1334' 'mse1337' 'mse1343' 'mse1349']\n"
     ]
    }
   ],
   "source": [
    "subjects = np.genfromtxt(\"pbr_baselines.txt\", dtype=str)\n",
    "print subjects[:5]"
   ]
  },
  {
   "cell_type": "code",
   "execution_count": 12,
   "metadata": {
    "collapsed": false
   },
   "outputs": [
    {
     "name": "stdout",
     "output_type": "stream",
     "text": [
      "Populating the interactive namespace from numpy and matplotlib\n"
     ]
    }
   ],
   "source": [
    "%pylab inline \n",
    "import os\n",
    "import nibabel as nib\n",
    "import numpy as np\n",
    "from glob import glob\n",
    "from scipy.ndimage import label"
   ]
  },
  {
   "cell_type": "code",
   "execution_count": 13,
   "metadata": {
    "collapsed": false
   },
   "outputs": [
    {
     "name": "stdout",
     "output_type": "stream",
     "text": [
      "['mse1328' 'mse1334' 'mse1337' 'mse1343' 'mse1349']\n"
     ]
    }
   ],
   "source": [
    "subjects = np.genfromtxt(\"pbr_baselines.txt\", dtype=str)\n",
    "print subjects[:5]"
   ]
  },
  {
   "cell_type": "code",
   "execution_count": 14,
   "metadata": {
    "collapsed": false
   },
   "outputs": [],
   "source": [
    "import glob\n",
    "import nibabel as nib"
   ]
  },
  {
   "cell_type": "code",
   "execution_count": 15,
   "metadata": {
    "collapsed": false
   },
   "outputs": [],
   "source": [
    "ms1328 = \"/data/henry7/PBR/subjects/mse1328/lesions_manual/ms56-mse1328-002-AX_T1_3D_IRSPGR/alignment_lesions.nii.gz\""
   ]
  },
  {
   "cell_type": "code",
   "execution_count": 16,
   "metadata": {
    "collapsed": false
   },
   "outputs": [
    {
     "name": "stdout",
     "output_type": "stream",
     "text": [
      "/data/henry7/PBR/subjects/mse1328/lesions_manual/ms56-mse1328-002-AX_T1_3D_IRSPGR/alignment_lesions.nii.gz\n"
     ]
    }
   ],
   "source": [
    "for lesion_file_1328 in glob.glob(\"/data/henry7/PBR/subjects/mse1328/lesions_manual/*/alignment_lesions.nii.gz\"):\n",
    "    print lesion_file_1328"
   ]
  },
  {
   "cell_type": "code",
   "execution_count": 17,
   "metadata": {
    "collapsed": false
   },
   "outputs": [
    {
     "data": {
      "text/plain": [
       "<nibabel.arrayproxy.ArrayProxy at 0x7f568cb97610>"
      ]
     },
     "execution_count": 17,
     "metadata": {},
     "output_type": "execute_result"
    }
   ],
   "source": [
    "img1328 = nib.load(lesion_file_1328)\n",
    "img1328.dataobj"
   ]
  },
  {
   "cell_type": "code",
   "execution_count": 18,
   "metadata": {
    "collapsed": false
   },
   "outputs": [
    {
     "data": {
      "text/plain": [
       "(256, 256, 150)"
      ]
     },
     "execution_count": 18,
     "metadata": {},
     "output_type": "execute_result"
    }
   ],
   "source": [
    "data1328 = img1328.get_data()\n",
    "data1328.shape\n"
   ]
  },
  {
   "cell_type": "code",
   "execution_count": 19,
   "metadata": {
    "collapsed": false
   },
   "outputs": [
    {
     "name": "stdout",
     "output_type": "stream",
     "text": [
      "[[  -0.9375        0.            0.          123.6289978 ]\n",
      " [   0.            0.9375        0.          -93.36050415]\n",
      " [   0.            0.            1.          -44.42710114]\n",
      " [   0.            0.            0.            1.        ]]\n"
     ]
    }
   ],
   "source": [
    "affine1328 = img1328.get_affine()\n",
    "print affine1328"
   ]
  },
  {
   "cell_type": "code",
   "execution_count": 20,
   "metadata": {
    "collapsed": false
   },
   "outputs": [],
   "source": [
    "labels, nlabels = label(data1328==[1])"
   ]
  },
  {
   "cell_type": "code",
   "execution_count": 21,
   "metadata": {
    "collapsed": false
   },
   "outputs": [
    {
     "data": {
      "text/plain": [
       "11"
      ]
     },
     "execution_count": 21,
     "metadata": {},
     "output_type": "execute_result"
    }
   ],
   "source": [
    "nlabels"
   ]
  },
  {
   "cell_type": "code",
   "execution_count": 22,
   "metadata": {
    "collapsed": false
   },
   "outputs": [
    {
     "name": "stdout",
     "output_type": "stream",
     "text": [
      "[ 0  1  2  3  4  5  6  7  8  9 10 11]\n"
     ]
    }
   ],
   "source": [
    "n = np.unique(labels)\n",
    "print n"
   ]
  },
  {
   "cell_type": "code",
   "execution_count": 23,
   "metadata": {
    "collapsed": false
   },
   "outputs": [
    {
     "data": {
      "text/plain": [
       "array([9829648,      69,     105,      54,      29,      69,      61,\n",
       "            36,      47,     125,     111,      46])"
      ]
     },
     "execution_count": 23,
     "metadata": {},
     "output_type": "execute_result"
    }
   ],
   "source": [
    "np.bincount(labels.ravel())"
   ]
  },
  {
   "cell_type": "code",
   "execution_count": 37,
   "metadata": {
    "collapsed": true
   },
   "outputs": [],
   "source": [
    "def get_lesion_coord():\n",
    "    all_lesion = []\n",
    "    for count in range(1, nlabels+1):\n",
    "        cur_lesion = []\n",
    "        x,y,z = np.nonzero(labels==count)\n",
    "        for count2 in range(len(x)):\n",
    "            cur_coordinates = [x[count2],y[count2],z[count2]]\n",
    "            cur_lesion.append(cur_coordinates)\n",
    "        all_lesion.append(cur_lesion)\n",
    "    #for count in range(nlabels):\n",
    "    #    print \"lesion #\", count+1, \"\", all_lesion[count]\n",
    "    #    print \"\"\n",
    "    return all_lesion\n"
   ]
  },
  {
   "cell_type": "code",
   "execution_count": 54,
   "metadata": {
    "collapsed": false
   },
   "outputs": [
    {
     "name": "stdout",
     "output_type": "stream",
     "text": [
      "[[78, 105, 89], [86, 126, 82], [91, 93, 58], [90, 98, 50], [99, 82, 55], [102, 74, 61], [113, 77, 82], [146, 102, 89], [148, 148, 89], [150, 115, 101], [151, 106, 92]]\n"
     ]
    }
   ],
   "source": [
    "def average_les(coordinates):\n",
    "    averages_all = []\n",
    "    for count in range(len(coordinates)):\n",
    "        averages = []\n",
    "        sumx=0;sumy=0;sumz=0\n",
    "        for count2 in range(len(coordinates[count])):\n",
    "            sumx += coordinates[count][count2][0]\n",
    "            sumy += coordinates[count][count2][1]\n",
    "            sumz += coordinates[count][count2][2]\n",
    "        average_x = sumx / len(coordinates[count])\n",
    "        average_y = sumy / len(coordinates[count])\n",
    "        average_z = sumz / len(coordinates[count])\n",
    "        averages = [average_x, average_y, average_z]\n",
    "        averages_all.append(averages)\n",
    "        #print count, averages\n",
    "    return averages_all\n",
    "\n",
    "average_lesions = average_les(get_lesion_coord())\n",
    "print average_lesions"
   ]
  },
  {
   "cell_type": "code",
   "execution_count": 83,
   "metadata": {
    "collapsed": false
   },
   "outputs": [],
   "source": [
    "realspace_coordinates = np.dot(affine1328, [average_lesions[0][0],\n",
    "                 average_lesions[0][1], \n",
    "                 average_lesions[0][2],\n",
    "                 1])"
   ]
  },
  {
   "cell_type": "code",
   "execution_count": 84,
   "metadata": {
    "collapsed": false
   },
   "outputs": [
    {
     "data": {
      "text/plain": [
       "[78, 105, 89]"
      ]
     },
     "execution_count": 84,
     "metadata": {},
     "output_type": "execute_result"
    }
   ],
   "source": [
    "average_lesions[0] "
   ]
  },
  {
   "cell_type": "code",
   "execution_count": 85,
   "metadata": {
    "collapsed": false
   },
   "outputs": [
    {
     "data": {
      "text/plain": [
       "array([ 50.5039978 ,   5.07699585,  44.57289886,   1.        ])"
      ]
     },
     "execution_count": 85,
     "metadata": {},
     "output_type": "execute_result"
    }
   ],
   "source": [
    "realspace_coordinates"
   ]
  },
  {
   "cell_type": "code",
   "execution_count": 86,
   "metadata": {
    "collapsed": false
   },
   "outputs": [],
   "source": [
    "from numpy.linalg import inv"
   ]
  },
  {
   "cell_type": "code",
   "execution_count": 78,
   "metadata": {
    "collapsed": false
   },
   "outputs": [
    {
     "name": "stdout",
     "output_type": "stream",
     "text": [
      "[[  -1.06666667   -0.           -0.          131.87093099]\n",
      " [   0.            1.06666667    0.           99.58453776]\n",
      " [   0.            0.            1.           44.42710114]\n",
      " [   0.            0.            0.            1.        ]]\n"
     ]
    }
   ],
   "source": [
    "inverse_affine_1328 = np.linalg.inv(affine_fs)\n",
    "print inverse_affine_1328"
   ]
  },
  {
   "cell_type": "code",
   "execution_count": 88,
   "metadata": {
    "collapsed": false
   },
   "outputs": [
    {
     "name": "stdout",
     "output_type": "stream",
     "text": [
      "[  78.  105.   89.    1.]\n"
     ]
    }
   ],
   "source": [
    "freesurfer_matrix = np.dot(affine_inverse1328, [realspace_coordinates[0],\n",
    "                 realspace_coordinates[1], \n",
    "                 realspace_coordinates[2],\n",
    "                 1])\n",
    "print freesurfer_matrix"
   ]
  },
  {
   "cell_type": "code",
   "execution_count": null,
   "metadata": {
    "collapsed": false
   },
   "outputs": [],
   "source": []
  },
  {
   "cell_type": "code",
   "execution_count": null,
   "metadata": {
    "collapsed": true
   },
   "outputs": [],
   "source": []
  }
 ],
 "metadata": {
  "kernelspec": {
   "display_name": "Python 2",
   "language": "python",
   "name": "python2"
  },
  "language_info": {
   "codemirror_mode": {
    "name": "ipython",
    "version": 2
   },
   "file_extension": ".py",
   "mimetype": "text/x-python",
   "name": "python",
   "nbconvert_exporter": "python",
   "pygments_lexer": "ipython2",
   "version": "2.7.11"
  }
 },
 "nbformat": 4,
 "nbformat_minor": 0
}
